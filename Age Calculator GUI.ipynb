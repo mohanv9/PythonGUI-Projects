{
 "cells": [
  {
   "cell_type": "code",
   "execution_count": 13,
   "metadata": {},
   "outputs": [],
   "source": [
    "import datetime\n",
    "import tkinter as tk\n"
   ]
  },
  {
   "cell_type": "code",
   "execution_count": 14,
   "metadata": {},
   "outputs": [],
   "source": [
    "window=tk.Tk()"
   ]
  },
  {
   "cell_type": "code",
   "execution_count": 15,
   "metadata": {},
   "outputs": [
    {
     "name": "stderr",
     "output_type": "stream",
     "text": [
      "Exception in Tkinter callback\n",
      "Traceback (most recent call last):\n",
      "  File \"C:\\Users\\chmoh\\anaconda3\\lib\\tkinter\\__init__.py\", line 1883, in __call__\n",
      "    return self.func(*args)\n",
      "  File \"<ipython-input-15-ff306e965eed>\", line 24, in getInput\n",
      "    monkey=Person(name,datetime.date(init(yearEntry.get()),\n",
      "NameError: name 'init' is not defined\n"
     ]
    }
   ],
   "source": [
    "window.geometry(\"620x780\")\n",
    "window.title(\"Age calculator App\")\n",
    "\n",
    "name=tk.Label(text=\"Name\")\n",
    "name.grid(column=0, row=1)\n",
    "year=tk.Label(text=\"Year\")\n",
    "year.grid(column=0,row=2)\n",
    "month=tk.Label(text=\"Month\")\n",
    "month.grid(column=0, row=3)\n",
    "date=tk.Label(text=\"Date\")\n",
    "date.grid(column=0, row=4)\n",
    "\n",
    "nameEntry=tk.Entry()\n",
    "nameEntry.grid(column=1, row=1)\n",
    "yearEntry=tk.Entry()\n",
    "yearEntry.grid(column=1, row=2)\n",
    "monthEntry=tk.Entry()\n",
    "monthEntry.grid(column=1, row=3)\n",
    "dateEntry=tk.Entry()\n",
    "dateEntry.grid(column=1, row=4)\n",
    "\n",
    "def getInput():\n",
    "    name=nameEntry.get()\n",
    "    monkey=Person(name,datetime.date(init(yearEntry.get()),\n",
    "                                    int(monthEntry.get()),\n",
    "                                    int(dateEntry.get())))\n",
    "    textArea=tk.Text(master=window, height=10, wwidth=25)\n",
    "    textArea.grid(column=1, row=6)\n",
    "    answer=\" Hey {monkey}!!!. you are {age} years old!!!\".format(monkey=name, age=monkey.age())\n",
    "    \n",
    "    textArea.insert(tk.END, answer)\n",
    "    \n",
    "button=tk.Button(window, text=\"Calculate Age\", command=getInput, bg=\"pink\")\n",
    "button.grid(column=1, row=5)\n",
    "\n",
    "class Person:\n",
    "    def __init__(self,name,birthdate):\n",
    "        self.name=name\n",
    "        self.birthdate=birthdate\n",
    "        \n",
    "    def age(self):\n",
    "        today=datetime.date.today()\n",
    "        age=today.year-self.birthdate.year\n",
    "        return age\n",
    "    \n",
    "photo=tk.PhotoImage('Guido.jpg')\n",
    "label_img=tk.Label(image=photo)\n",
    "label_img.grid(column=1, row=0)\n",
    "window.mainloop()\n",
    "                                                                 \n",
    "                                                                 "
   ]
  },
  {
   "cell_type": "code",
   "execution_count": null,
   "metadata": {},
   "outputs": [],
   "source": []
  }
 ],
 "metadata": {
  "kernelspec": {
   "display_name": "Python 3",
   "language": "python",
   "name": "python3"
  },
  "language_info": {
   "codemirror_mode": {
    "name": "ipython",
    "version": 3
   },
   "file_extension": ".py",
   "mimetype": "text/x-python",
   "name": "python",
   "nbconvert_exporter": "python",
   "pygments_lexer": "ipython3",
   "version": "3.8.5"
  }
 },
 "nbformat": 4,
 "nbformat_minor": 4
}
