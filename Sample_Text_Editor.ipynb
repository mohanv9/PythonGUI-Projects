{
 "cells": [
  {
   "cell_type": "code",
   "execution_count": 1,
   "metadata": {},
   "outputs": [],
   "source": [
    "import os\n",
    "import sys"
   ]
  },
  {
   "cell_type": "code",
   "execution_count": 2,
   "metadata": {},
   "outputs": [],
   "source": [
    "# Get the Notes"
   ]
  },
  {
   "cell_type": "code",
   "execution_count": 1,
   "metadata": {},
   "outputs": [
    {
     "name": "stdout",
     "output_type": "stream",
     "text": [
      "===================================================\n",
      "                 SIMPLE TEXT EDITOR\n",
      "===================================================\n",
      "Options: \n",
      " write\n",
      " read\n",
      " cwd\n",
      " exit\n",
      " delete\n",
      " rename\n",
      "So, what are you wishing for today: exit\n"
     ]
    },
    {
     "ename": "SystemExit",
     "evalue": "You are leaving Simple Text Editor",
     "output_type": "error",
     "traceback": [
      "An exception has occurred, use %tb to see the full traceback.\n",
      "\u001b[1;31mSystemExit\u001b[0m\u001b[1;31m:\u001b[0m You are leaving Simple Text Editor\n"
     ]
    },
    {
     "name": "stderr",
     "output_type": "stream",
     "text": [
      "C:\\Users\\chmoh\\anaconda3\\lib\\site-packages\\IPython\\core\\interactiveshell.py:3426: UserWarning: To exit: use 'exit', 'quit', or Ctrl-D.\n",
      "  warn(\"To exit: use 'exit', 'quit', or Ctrl-D.\", stacklevel=1)\n"
     ]
    }
   ],
   "source": [
    "import sys\n",
    "import os\n",
    "\n",
    "def leave():\n",
    "    sys.exit(\"You are leaving Simple Text Editor\")\n",
    "\n",
    "\n",
    "def read():\n",
    "    try:\n",
    "        file_name = input(\"Enter your file name: \")\n",
    "        target = open(file_name, \"r\")\n",
    "        readfile = target.read()\n",
    "        print(readfile)\n",
    "    except Exception as e:\n",
    "        print(\"There was a problem: %s\" % (e))\n",
    "\n",
    "\n",
    "def delete():\n",
    "    file_name = input(\"Enter your file name: \")\n",
    "    try:\n",
    "        os.unlink(file_name)\n",
    "    except Exception as e:\n",
    "        print(\"There was a problem: %s\" % (e))\n",
    "\n",
    "\n",
    "def write():\n",
    "    try:\n",
    "        print(\"it will first prompt file name,\\\n",
    "type the file name to create new file,then type the\\\n",
    "text for file,on next line type menu to save the file \\\n",
    "and return to the main menu\")\n",
    "        file_name = input(\"Enter your file name: \")\n",
    "        target = open(file_name, \"a\")\n",
    "        while True:\n",
    "            append = input()            \n",
    "            if append.lower() == \"menu\":\n",
    "                break\n",
    "            else:\n",
    "                target.write(append)\n",
    "                target.write(\"\\n\")\n",
    "    except Exception as e:\n",
    "        print(\"There was a problem: %s\" % (e))\n",
    "\n",
    "\n",
    "def cwd():\n",
    "    try:\n",
    "        print(os.getcwd())\n",
    "        change = input(\"Change Y/N: \")\n",
    "        if change.startswith(\"y\"):\n",
    "            path = input(\"New CWD: \")\n",
    "            os.chdir(path)\n",
    "    except Exception as e:\n",
    "        print(\"There was a problem: %s\" % (e))\n",
    "\n",
    "\n",
    "def rename():\n",
    "    try:\n",
    "        file_name = input(\"Enter current file name: \")\n",
    "        new = input(\"Enter new file name: \")\n",
    "        os.rename(file_name, new)\n",
    "    except Exception as e:\n",
    "        print(\"There was a problem: %s\" % (e))\n",
    "\n",
    "\n",
    "while True:\n",
    "    print(\"===================================================\")\n",
    "    print(\"                 SIMPLE TEXT EDITOR\")\n",
    "    print(\"===================================================\")\n",
    "    print(\"Options: \\n write\\n read\\n cwd\\n exit\\n delete\\n rename\")\n",
    "    do = input(\"So, what are you wishing for today: \")\n",
    "    if do.lower() == \"write\":\n",
    "        write()\n",
    "    elif do.lower() == \"read\":\n",
    "        read()\n",
    "    elif do.lower() == \"delete\":\n",
    "        delete()\n",
    "    elif do.lower() == \"exit\":\n",
    "        leave()\n",
    "    elif do.lower() == \"cwd\":\n",
    "        cwd()\n",
    "    elif do.lower() == \"rename\":\n",
    "        rename()"
   ]
  },
  {
   "cell_type": "code",
   "execution_count": null,
   "metadata": {},
   "outputs": [],
   "source": []
  }
 ],
 "metadata": {
  "kernelspec": {
   "display_name": "Python 3",
   "language": "python",
   "name": "python3"
  },
  "language_info": {
   "codemirror_mode": {
    "name": "ipython",
    "version": 3
   },
   "file_extension": ".py",
   "mimetype": "text/x-python",
   "name": "python",
   "nbconvert_exporter": "python",
   "pygments_lexer": "ipython3",
   "version": "3.8.5"
  }
 },
 "nbformat": 4,
 "nbformat_minor": 4
}
