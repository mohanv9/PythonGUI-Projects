{
 "cells": [
  {
   "cell_type": "markdown",
   "metadata": {},
   "source": [
    "## SIMPLE GUI CALCULATOR"
   ]
  },
  {
   "cell_type": "code",
   "execution_count": 1,
   "metadata": {},
   "outputs": [],
   "source": [
    "if tkinter as t"
   ]
  },
  {
   "cell_type": "code",
   "execution_count": 2,
   "metadata": {},
   "outputs": [],
   "source": [
    "def KeyPressed(i):\n",
    "    if i!='=':\n",
    "        entry.insert(t.END,i)\n",
    "    else:\n",
    "        expression=entry.get()\n",
    "        try:\n",
    "            value=eval(expression)\n",
    "            new_string=f'{value:,}'\n",
    "            entry.delete(0,t.END)\n",
    "            entry.insert(0,new_string)\n",
    "        except Exception as e:\n",
    "            entry.delete(0,t.END)\n",
    "            entry.insert(0,e)\n",
    "            \n",
    "root=t.Tk()\n",
    "root.title(\"Calculator by Varma\")\n",
    "\n",
    "\n",
    "entry=t.Entry(root,width=26,borderwidth=5,font=('arial', 12))\n",
    "entry.grid(row=0,column=0,padx=10,pady=10,columnspan=5)\n",
    "btn_frame=t.Frame(root,width=40,height=100)\n",
    "btn_frame.grid(row=1,columnspan=5)\n",
    "\n",
    "Key_Text=['0','1','2','3','4','5','6','7','8','9','/','*','+','-','=']\n",
    "\n",
    "i=j=0\n",
    "for x in Key_Text:\n",
    "    b=t.Button(btn_frame,width=5,text=x,\n",
    "              command=lambda x = x: KeyPressed(x))\n",
    "    b.grid(row=i,column=j,ipadx=2,ipady=4)\n",
    "    j+=1\n",
    "    if j==5:\n",
    "        i+=1\n",
    "        j=0\n",
    "\n",
    "del_btn=t.Button(root,text='Reset',width=30,\n",
    "                command=lambda: entry.delete(0,t.END))\n",
    "del_btn.grid(row=2,columnspan=5,ipadx=5,ipady=4)\n",
    "root.mainloop()"
   ]
  },
  {
   "cell_type": "code",
   "execution_count": null,
   "metadata": {},
   "outputs": [],
   "source": []
  }
 ],
 "metadata": {
  "kernelspec": {
   "display_name": "Python 3",
   "language": "python",
   "name": "python3"
  },
  "language_info": {
   "codemirror_mode": {
    "name": "ipython",
    "version": 3
   },
   "file_extension": ".py",
   "mimetype": "text/x-python",
   "name": "python",
   "nbconvert_exporter": "python",
   "pygments_lexer": "ipython3",
   "version": "3.8.5"
  }
 },
 "nbformat": 4,
 "nbformat_minor": 4
}
